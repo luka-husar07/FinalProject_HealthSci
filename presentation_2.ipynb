{
 "cells": [
  {
   "cell_type": "code",
   "execution_count": null,
   "metadata": {},
   "outputs": [],
   "source": [
    "%reload_ext autoreload\n",
    "%autoreload 2\n",
    "\n",
    "#import classes\n",
    "\n",
    "import os\n",
    "os.environ[\"KMP_DUPLICATE_LIB_OK\"] = \"TRUE\"\n",
    "\n",
    "import matplotlib.pyplot as plt\n",
    "import data_loader,image_vis"
   ]
  },
  {
   "cell_type": "code",
   "execution_count": 3,
   "metadata": {},
   "outputs": [
    {
     "name": "stdout",
     "output_type": "stream",
     "text": [
      "Batch Image Shape: torch.Size([16, 3, 224, 224])\n",
      "Batch Labels: tensor([1, 0, 1, 1, 1, 2, 1, 2, 1, 0, 1, 0, 1, 1, 0, 1])\n"
     ]
    }
   ],
   "source": [
    "\n",
    "#Change path to your local file location\n",
    "dataloader = data_loader.dataset_load(path = \"D:/Study-PhD/ISC_5935Machine_Learning_for_Medical_Images/Datasets\", print_info=True)"
   ]
  },
  {
   "cell_type": "code",
   "execution_count": 4,
   "metadata": {},
   "outputs": [
    {
     "name": "stdout",
     "output_type": "stream",
     "text": [
      "Batch Image Shape: torch.Size([16, 3, 224, 224])\n",
      "Batch Labels: tensor([1, 1, 1, 1, 2, 0, 0, 2, 1, 2, 1, 2, 2, 1, 1, 1])\n"
     ]
    },
    {
     "ename": "",
     "evalue": "",
     "output_type": "error",
     "traceback": [
      "\u001b[1;31mThe Kernel crashed while executing code in the current cell or a previous cell. \n",
      "\u001b[1;31mPlease review the code in the cell(s) to identify a possible cause of the failure. \n",
      "\u001b[1;31mClick <a href='https://aka.ms/vscodeJupyterKernelCrash'>here</a> for more info. \n",
      "\u001b[1;31mView Jupyter <a href='command:jupyter.viewOutput'>log</a> for further details."
     ]
    }
   ],
   "source": [
    "# Plot the slices\n",
    "fig, axes = plt.subplots(1, 3, figsize=(15, 5))\n",
    "for images, labels in dataloader:\n",
    "    print(f\"Batch Image Shape: {images.shape}\")  # Expected: (batch_size, 3, 224, 224)\n",
    "    print(f\"Batch Labels: {labels}\")\n",
    "    images = images.permute(0, 2, 3, 1).numpy()\n",
    "    axes[0].imshow(images[0])\n",
    "    axes[0].set_title('Axial Slice')\n",
    "\n",
    "    axes[1].imshow(images[1])\n",
    "    axes[1].set_title('Coronal Slice')\n",
    "\n",
    "    axes[2].imshow(images[2])\n",
    "    axes[2].set_title('Sagittal Slice')\n",
    "    break\n",
    "plt.show()"
   ]
  }
 ],
 "metadata": {
  "kernelspec": {
   "display_name": "python_39",
   "language": "python",
   "name": "python3"
  },
  "language_info": {
   "codemirror_mode": {
    "name": "ipython",
    "version": 3
   },
   "file_extension": ".py",
   "mimetype": "text/x-python",
   "name": "python",
   "nbconvert_exporter": "python",
   "pygments_lexer": "ipython3",
   "version": "3.9.21"
  }
 },
 "nbformat": 4,
 "nbformat_minor": 2
}
